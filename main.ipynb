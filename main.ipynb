{
 "cells": [
  {
   "cell_type": "code",
   "execution_count": 16,
   "id": "breeding-protest",
   "metadata": {},
   "outputs": [
    {
     "name": "stdout",
     "output_type": "stream",
     "text": [
      "GAP_THRESHOLD = 0.7433844377699677\n"
     ]
    }
   ],
   "source": [
    "import algos\n",
    "import bandit\n",
    "import numpy as np\n",
    "import matplotlib.pyplot as plt\n",
    "from collections import Counter\n",
    "from itertools import combinations\n",
    "import utils\n",
    "import pickle\n",
    "\n",
    "plt.rcParams['figure.figsize'] = [8, 4]\n",
    "plt.rcParams['figure.dpi'] = 100\n",
    "\n",
    "N_TASKS = 1000\n",
    "N_ARMS = 400\n",
    "OPT_SIZE = 200\n",
    "HORIZON = 5000\n",
    "N_EXPERT = None #None: All possible combinations\n",
    "N_EXPS = 2 #No. of repeat experiments\n",
    "GAP_THRESHOLD = np.sqrt(N_ARMS*np.log(N_TASKS)/HORIZON)\n",
    "kwargs = {'task_cache_step': 10,\n",
    "          'gap_constrain':min(1,GAP_THRESHOLD*1.0005),\n",
    "          'plot_var': True,\n",
    "          'is_adversarial': True,\n",
    "          'timeout': 1.02, # maximum duration for each roll-outs. Unit = minute. -1 = unlimited\n",
    "          'quiet': True,\n",
    "         }\n",
    "if N_EXPERT is not None:\n",
    "    print(f'N_EXPERT = {N_EXPERT}')\n",
    "    max_n_expert = len(list(combinations(np.arange(N_ARMS),OPT_SIZE)))\n",
    "    assert N_EXPERT<=max_n_expert, f\"The number of expert ({N_EXPERT}) must be smaller than the maximum combination ({max_n_expert})\"\n",
    "assert N_ARMS<=HORIZON, f\"The number of arm ({N_ARMS}) must be smaller than the horizon ({HORIZON})\"\n",
    "print(f'GAP_THRESHOLD = {GAP_THRESHOLD}')"
   ]
  },
  {
   "cell_type": "markdown",
   "id": "seasonal-photography",
   "metadata": {},
   "source": [
    "## Regret vs Number of tasks"
   ]
  },
  {
   "cell_type": "code",
   "execution_count": null,
   "id": "differential-woman",
   "metadata": {},
   "outputs": [],
   "source": [
    "(X, regret_dict, title, xlabel, ylabel) = utils.task_exp(N_EXPS, N_TASKS, N_ARMS, HORIZON, OPT_SIZE, N_EXPERT, **kwargs)\n",
    "pickle.dump(regret_dict, open(\"results/tasks.p\", \"wb\"))\n",
    "regret_dict = pickle.load(open(\"results/tasks.p\", \"rb\"))\n",
    "pass"
   ]
  },
  {
   "cell_type": "code",
   "execution_count": null,
   "id": "unlike-reliance",
   "metadata": {
    "tags": []
   },
   "outputs": [],
   "source": [
    "# # Plot from loaded cache file\n",
    "# X = np.arange(N_TASKS)\n",
    "# gap = kwargs['gap_constrain']\n",
    "# regret_dict = pickle.load(open(\"results/tasks_cache.p\", \"rb\"))\n",
    "# n_experts=10\n",
    "# title = f'Regret: {N_ARMS} arms, horizon {HORIZON}, {n_experts} experts, gap = {gap:.3f} and subset size {OPT_SIZE}'\n",
    "# xlabel, ylabel = 'Number of tasks', 'Average Regret per task'\n",
    "# indices = np.arange(0, X.shape[0], kwargs['task_cache_step']).astype(int)\n",
    "# utils.plot(X[indices], regret_dict, title, xlabel, ylabel, kwargs['plot_var'])"
   ]
  },
  {
   "cell_type": "markdown",
   "id": "significant-joyce",
   "metadata": {},
   "source": [
    "## Regret vs Horizon"
   ]
  },
  {
   "cell_type": "code",
   "execution_count": null,
   "id": "civilian-means",
   "metadata": {},
   "outputs": [],
   "source": [
    "horizon_list = np.arange(50, 310, 50)\n",
    "(X_h, regret_dict_h, title, xlabel, ylabel) = \\\n",
    "utils.horizon_exp(N_EXPS, N_TASKS, N_ARMS, OPT_SIZE, N_EXPERT, \n",
    "                  horizon_list = horizon_list, **kwargs)\n",
    "pickle.dump(regret_dict_h, open(\"results/horizon.p\", \"wb\"))\n",
    "regret_dict_h = pickle.load(open(\"results/horizon.p\", \"rb\"))\n",
    "pass"
   ]
  },
  {
   "cell_type": "code",
   "execution_count": null,
   "id": "cosmetic-munich",
   "metadata": {},
   "outputs": [],
   "source": [
    "# # Plot from loaded cache file\n",
    "# X_h = np.arange(50, 310, 50)\n",
    "# n_experts=10\n",
    "# regret_dict_h = pickle.load(open(\"results/horizon.p\", \"rb\"))\n",
    "# title = f'Regret: {N_ARMS} arms, {N_TASKS} tasks, {n_experts} experts, gap cond. satisfied and subset size {OPT_SIZE}'\n",
    "# xlabel, ylabel = 'Horizon', 'Average Regret per Step'\n",
    "# utils.plot(X_h, regret_dict_h, title, xlabel, ylabel, kwargs['plot_var'])"
   ]
  },
  {
   "cell_type": "markdown",
   "id": "expanded-decrease",
   "metadata": {},
   "source": [
    "## Regret vs # of arm"
   ]
  },
  {
   "cell_type": "code",
   "execution_count": null,
   "id": "matched-johns",
   "metadata": {
    "tags": []
   },
   "outputs": [],
   "source": [
    "n_arms_list = np.arange(3,8,1)\n",
    "(X_b, regret_dict_b, title, xlabel, ylabel) = \\\n",
    "utils.arms_exp(N_EXPS, N_TASKS, HORIZON, OPT_SIZE, N_EXPERT, n_arms_list, **kwargs)\n",
    "pickle.dump(regret_dict_b, open(\"results/arms.p\", \"wb\"))\n",
    "regret_dict_h = pickle.load(open(\"results/arms.p\", \"rb\"))\n",
    "pass"
   ]
  },
  {
   "cell_type": "code",
   "execution_count": null,
   "id": "catholic-gardening",
   "metadata": {},
   "outputs": [],
   "source": [
    "# # Plot from loaded cache file\n",
    "# title = f'Regret: Horizon {HORIZON}, {N_TASKS} tasks, all experts, gap cond. satisfied and subset size {OPT_SIZE}'\n",
    "# xlabel, ylabel = 'Number of Arms', 'Regret'\n",
    "# X_b = np.arange(3,8,1)\n",
    "# regret_dict_b = pickle.load(open(\"results/arms.p\", \"rb\"))\n",
    "# utils.plot(X_b, regret_dict_b, title, xlabel, ylabel, kwargs['plot_var'])"
   ]
  },
  {
   "cell_type": "markdown",
   "id": "vietnamese-nursing",
   "metadata": {},
   "source": [
    "## Regret vs subset size"
   ]
  },
  {
   "cell_type": "code",
   "execution_count": null,
   "id": "infectious-triple",
   "metadata": {},
   "outputs": [],
   "source": [
    "(X_e, regret_dict_e, title, xlabel, ylabel) = utils.subset_exp(N_EXPS, \n",
    "                                  N_TASKS, N_ARMS, HORIZON, N_EXPERT, \n",
    "                                  opt_size_list = np.arange(1,N_ARMS+1,1), **kwargs)\n",
    "pickle.dump(regret_dict_e, open(\"results/subset.p\", \"wb\"))\n",
    "regret_dict_h = pickle.load(open(\"results/subset.p\", \"rb\"))\n",
    "pass"
   ]
  },
  {
   "cell_type": "code",
   "execution_count": null,
   "id": "affiliated-tennis",
   "metadata": {},
   "outputs": [],
   "source": [
    "# # Plot from loaded cache file\n",
    "# title=f'Regret: {N_ARMS} arms, Horizon {HORIZON}, {N_TASKS} tasks, gap = {gap:.3f} and all experts'\n",
    "# xlabel, ylabel = 'subset size', 'Regret'\n",
    "# X_e = np.arange(1,N_ARMS+1,1)\n",
    "# regret_dict_e = pickle.load(open(\"results/subset.p\", \"rb\"))\n",
    "# utils.plot(X_e, regret_dict_e, title, xlabel, ylabel, kwargs['plot_var'])"
   ]
  },
  {
   "cell_type": "code",
   "execution_count": null,
   "id": "correct-olympus",
   "metadata": {},
   "outputs": [],
   "source": []
  }
 ],
 "metadata": {
  "kernelspec": {
   "display_name": "Python 3",
   "language": "python",
   "name": "python3"
  },
  "language_info": {
   "codemirror_mode": {
    "name": "ipython",
    "version": 3
   },
   "file_extension": ".py",
   "mimetype": "text/x-python",
   "name": "python",
   "nbconvert_exporter": "python",
   "pygments_lexer": "ipython3",
   "version": "3.7.10"
  }
 },
 "nbformat": 4,
 "nbformat_minor": 5
}
