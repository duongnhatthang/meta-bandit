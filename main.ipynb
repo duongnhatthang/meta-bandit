{
 "cells": [
  {
   "cell_type": "code",
   "execution_count": null,
   "id": "continued-submission",
   "metadata": {},
   "outputs": [],
   "source": [
    "import numpy as np\n",
    "import matplotlib.pyplot as plt\n",
    "import utils\n",
    "import pickle\n",
    "\n",
    "font = {\n",
    "        'weight' : 'bold',\n",
    "        'size'   : 22}\n",
    "\n",
    "plt.rc('font', **font)\n",
    "plt.rcParams['pdf.fonttype'] = 42\n",
    "plt.rcParams['ps.fonttype'] = 42\n",
    "plt.rcParams['figure.figsize'] = [9, 5.5] # NIPS format: [9, 5.5]\n",
    "plt.rcParams['figure.dpi'] = 300\n",
    "\n",
    "# For 1 setting (Task exp): ~50k steps per minutes (for each agent process)\n",
    "\n",
    "N_TASKS = 200 #Actual: 60\n",
    "N_ARMS = 11\n",
    "OPT_SIZE = 2 # >1\n",
    "HORIZON = 300\n",
    "N_EXPS = 5 #No. of repeat experiments\n",
    "\n",
    "# N_TASKS = 500 #Actual: 60\n",
    "# N_ARMS = 80\n",
    "# OPT_SIZE = 8 # >1\n",
    "# HORIZON = 5000\n",
    "# N_EXPS = 5 #No. of repeat experiments\n",
    "\n",
    "GAP_THRESHOLD = np.sqrt(N_ARMS*np.log(N_TASKS)/HORIZON)\n",
    "gap = min(1,GAP_THRESHOLD*1.1)\n",
    "kwargs = {\n",
    "          'gap_constrain':gap,\n",
    "          'is_adversarial': True,\n",
    "#           'skip_list': [\"PMML\", \"GML\", \"GML_FC\", \"EE\"],\n",
    "#           'skip_list': [],\n",
    "          'skip_list': ['GML_FC'],\n",
    "          'timeout': 45, # maximum duration for each experiment. Unit = minute. -1 = unlimited\n",
    "          'quiet': True,\n",
    "          'linewidth': 7,\n",
    "          'plot_legend': False,\n",
    "#           'OG_scale': 0.08,\n",
    "          'OG_scale': 0.008,\n",
    "          'n_optimal': 1,\n",
    "         }\n",
    "if kwargs['is_adversarial']:\n",
    "    setting = \"Adversarial\"\n",
    "else:\n",
    "    setting = \"Stochastic\"\n",
    "assert N_ARMS<=HORIZON, f\"The number of arm ({N_ARMS}) must be smaller than the horizon ({HORIZON})\"\n",
    "assert OPT_SIZE<=N_ARMS, f\"The subset size ({OPT_SIZE}) must be smaller than the number of arm ({N_ARMS})\"\n",
    "print(f'GAP_THRESHOLD = {GAP_THRESHOLD}, actual gap = {gap}')\n",
    "\n",
    "PE_params = 4*np.log(max(np.exp(1), N_ARMS*HORIZON/4))\n",
    "if N_ARMS*PE_params > HORIZON:\n",
    "    print(f\"WARNING (Phased Elimination): phase 1 duration ({N_ARMS*PE_params}) is larger than the horizon ({HORIZON}) \\n=> increase horizon and/or change n_arms.\")\n",
    "og_lambda = kwargs['OG_scale']*OPT_SIZE*(1+np.log(N_TASKS))*(N_ARMS*np.log(N_ARMS)/N_TASKS)**(1/3)\n",
    "if og_lambda<0 or og_lambda>1:\n",
    "    print(f\"WARNING (OG baseline): og_lambda ({og_lambda}) must in range [0,1]. Decrease # of arms and subset size or Increase # of task\")\n",
    "print(f\"og_lambda = {og_lambda}\")\n",
    "\n",
    "B_TK = np.sqrt(HORIZON * N_ARMS * np.log(N_ARMS))\n",
    "p = np.sqrt((OPT_SIZE*HORIZON)/(N_TASKS*B_TK))\n",
    "print(f\"GML EXR prob = {p}\")"
   ]
  },
  {
   "cell_type": "markdown",
   "id": "biological-upper",
   "metadata": {},
   "source": [
    "## Regret vs Number of tasks"
   ]
  },
  {
   "cell_type": "code",
   "execution_count": null,
   "id": "cloudy-spray",
   "metadata": {
    "tags": []
   },
   "outputs": [],
   "source": [
    "task_list = np.arange(200, 251, 50)\n",
    "# task_list = np.arange(200, 1001, 200)\n",
    "(X, regret_dict, title, xlabel, ylabel) = utils.task_exp(N_EXPS, HORIZON, N_ARMS, OPT_SIZE, task_list, **kwargs)\n",
    "# pickle.dump(regret_dict, open(\"results/tasks.p\", \"wb\"))\n",
    "# regret_dict = pickle.load(open(\"results/tasks.p\", \"rb\"))\n",
    "pass"
   ]
  },
  {
   "cell_type": "code",
   "execution_count": null,
   "id": "08ac2a57-5049-42cb-9e98-2833df22b67b",
   "metadata": {
    "tags": []
   },
   "outputs": [],
   "source": [
    "# Plot from loaded cache file\n",
    "X = np.arange(100, 551, 100)\n",
    "# X = np.arange(500,910,100)\n",
    "gap = kwargs['gap_constrain']\n",
    "regret_dict = pickle.load(open(\"results/cache_small/small_tasks.p\", \"rb\"))\n",
    "# regret_dict = pickle.load(open(\"results/Adversarial2_tasks.p\", \"rb\"))\n",
    "title = ''\n",
    "# title = f'{setting}:{N_ARMS} arms, horizon = {HORIZON}, and subset size = {OPT_SIZE}'\n",
    "xlabel, ylabel = '# of tasks', 'Regret / task'\n",
    "# plt.ylim([-5, 2000])\n",
    "utils.plot(X, regret_dict, title, xlabel, ylabel, **kwargs)\n",
    "pass"
   ]
  },
  {
   "cell_type": "markdown",
   "id": "documentary-planner",
   "metadata": {},
   "source": [
    "## Regret vs Horizon"
   ]
  },
  {
   "cell_type": "code",
   "execution_count": null,
   "id": "artificial-commission",
   "metadata": {
    "jupyter": {
     "source_hidden": true
    },
    "tags": []
   },
   "outputs": [],
   "source": [
    "horizon_list = np.arange(120, 126, 5)\n",
    "(X_h, regret_dict_h, title, xlabel, ylabel) = \\\n",
    "utils.horizon_exp(N_EXPS, N_TASKS, N_ARMS, OPT_SIZE, \n",
    "                  horizon_list = horizon_list, **kwargs)\n",
    "# pickle.dump(regret_dict_h, open(\"results/horizon.p\", \"wb\"))\n",
    "# regret_dict_h = pickle.load(open(\"results/horizon.p\", \"rb\"))\n",
    "pass"
   ]
  },
  {
   "cell_type": "code",
   "execution_count": null,
   "id": "silent-methodology",
   "metadata": {
    "tags": []
   },
   "outputs": [],
   "source": [
    "# Plot from loaded cache file\n",
    "X_h = np.arange(300, 506, 50) # small stochastic\n",
    "# X_h = np.arange(300, 506, 50) # small\n",
    "# X_h = np.arange(4000, 6010, 500)\n",
    "regret_dict_h = pickle.load(open(\"results/cache_small/small_horizon.p\", \"rb\"))\n",
    "# regret_dict_h = pickle.load(open(\"results/Adversarial2_horizon.p\", \"rb\"))\n",
    "title = ''\n",
    "# title = f'{setting}: {N_ARMS} arms, {N_TASKS} tasks, and subset size = {OPT_SIZE}'\n",
    "xlabel, ylabel = 'Horizon', 'Regret / Step'\n",
    "# plt.ylim([-0.4, 0.6])\n",
    "utils.plot(X_h, regret_dict_h, title, xlabel, ylabel, **kwargs)\n",
    "plt.ticklabel_format(axis=\"x\", style=\"sci\", scilimits=(0,0))"
   ]
  },
  {
   "cell_type": "markdown",
   "id": "romantic-azerbaijan",
   "metadata": {
    "tags": []
   },
   "source": [
    "## Regret vs # of arm"
   ]
  },
  {
   "cell_type": "code",
   "execution_count": null,
   "id": "hindu-slave",
   "metadata": {
    "jupyter": {
     "source_hidden": true
    },
    "tags": []
   },
   "outputs": [],
   "source": [
    "n_arms_list = np.arange(3,8,1)\n",
    "(X_b, regret_dict_b, title, xlabel, ylabel) = \\\n",
    "utils.arms_exp(N_EXPS, N_TASKS, HORIZON, OPT_SIZE, n_arms_list, **kwargs)\n",
    "# pickle.dump(regret_dict_b, open(\"results/arms.p\", \"wb\"))\n",
    "# regret_dict_h = pickle.load(open(\"results/arms.p\", \"rb\"))\n",
    "pass"
   ]
  },
  {
   "cell_type": "code",
   "execution_count": null,
   "id": "99e47032-62e7-4a00-9ab2-713eb4da2b2c",
   "metadata": {},
   "outputs": [],
   "source": [
    "# Plot from loaded cache file\n",
    "# HORIZON = 12000\n",
    "# X_b = np.arange(60,101,10)\n",
    "X_b = np.arange(10,19,2) # small\n",
    "# title = f'{setting}: Horizon = {HORIZON}, {N_TASKS} tasks, and subset size = {OPT_SIZE}'\n",
    "title = ''\n",
    "xlabel, ylabel = '# of Arms', 'Regret'\n",
    "regret_dict_b = pickle.load(open(\"results/cache_stochastic_small/small_arms.p\", \"rb\"))\n",
    "# regret_dict_b = pickle.load(open(\"results/cache_500_tasks2/Adversarial2_arms.p\", \"rb\"))\n",
    "# regret_dict_b = pickle.load(open(\"results/cache_600_tasks/Adversarial_arms.p\", \"rb\"))\n",
    "# plt.ylim([-5, 55])\n",
    "utils.plot(X_b, regret_dict_b, title, xlabel, ylabel, **kwargs)"
   ]
  },
  {
   "cell_type": "markdown",
   "id": "written-female",
   "metadata": {},
   "source": [
    "## Regret vs subset size"
   ]
  },
  {
   "cell_type": "code",
   "execution_count": null,
   "id": "black-reproduction",
   "metadata": {
    "tags": []
   },
   "outputs": [],
   "source": [
    "opt_size_list = np.arange(2,N_ARMS+1,1)\n",
    "(X_e, regret_dict_e, title, xlabel, ylabel) = utils.subset_exp(N_EXPS, \n",
    "                                  N_TASKS, N_ARMS, HORIZON, \n",
    "                                  opt_size_list = opt_size_list, **kwargs)\n",
    "# pickle.dump(regret_dict_e, open(\"results/subset.p\", \"wb\"))\n",
    "# regret_dict_h = pickle.load(open(\"results/subset.p\", \"rb\"))\n",
    "pass"
   ]
  },
  {
   "cell_type": "code",
   "execution_count": null,
   "id": "existing-recording",
   "metadata": {
    "tags": []
   },
   "outputs": [],
   "source": [
    "# Plot from loaded cache file\n",
    "# title=f'{setting}: {N_ARMS} arms, horizon = {HORIZON}, {N_TASKS} tasks'\n",
    "title = ''\n",
    "xlabel, ylabel = 'Subset size', 'Regret'\n",
    "X_e = np.arange(6,N_ARMS+1,3)\n",
    "# X_e = np.arange(3,24,5)\n",
    "# regret_dict_e = pickle.load(open(\"results/Adversarial2_subset.p\", \"rb\"))\n",
    "regret_dict_e = pickle.load(open(\"results/cache_stochastic_small/small_subset.p\", \"rb\"))\n",
    "utils.plot(X_e, regret_dict_e, title, xlabel, ylabel, **kwargs)"
   ]
  },
  {
   "cell_type": "markdown",
   "id": "c6714c49-c9fd-4789-b781-86299fa1dc70",
   "metadata": {},
   "source": [
    "# Plotting legend code"
   ]
  },
  {
   "cell_type": "code",
   "execution_count": null,
   "id": "4cfcbd5b-a9d6-45b3-b523-5b33c529ca54",
   "metadata": {
    "tags": []
   },
   "outputs": [],
   "source": [
    "font = {\n",
    "        'weight' : 'bold',\n",
    "        'size'   : 6}\n",
    "\n",
    "plt.rc('font', **font)\n",
    "plt.rcParams['pdf.fonttype'] = 42\n",
    "plt.rcParams['ps.fonttype'] = 42\n",
    "\n",
    "plt.rcParams['figure.figsize'] = [7, 5.5] # NIPS format: [9, 5.5]\n",
    "# plt.rcParams['figure.figsize'] = [15, 5.5] # NIPS format: [9, 5.5]\n",
    "# labels = [\"MOSS\", \"G-BASS\", \"OG°\", \"Opt-MOSS\"]\n",
    "labels = [\"MOSS\", \"EE\", \"G-BASS\", \"E-BASS\", \"OG°\", \"Opt-MOSS\"]\n",
    "# colors = [\"#F28522\", \"#FF1F5B\", \"#FFC61E\", \"#A0B1BA\"]\n",
    "colors = [\"#F28522\", \"#009ADE\", \"#FF1F5B\", \"#00CD6C\", \"#FFC61E\", \"#A0B1BA\"]\n",
    "# linestyles = [\"-\", \"-\", \"-\", \"-\", \"dashed\"]\n",
    "linestyles = [\"-\", \"-\", \"-\", \"-\", \"-\", \"dashed\"]\n",
    "f = lambda c,l: plt.plot([],[], color=c, ls=l, linewidth=4)[0]\n",
    "handles = [f(colors[i], linestyles[i]) for i in range(len(labels))]\n",
    "legend = plt.legend(handles, labels, loc=3, framealpha=1, frameon=False, mode=\"expand\", ncol=len(handles))\n",
    "\n",
    "def export_legend(legend, filename=\"legend6.png\"):\n",
    "    fig  = legend.figure\n",
    "    fig.canvas.draw()\n",
    "    bbox  = legend.get_window_extent().transformed(fig.dpi_scale_trans.inverted())\n",
    "    fig.savefig(filename, dpi=\"figure\", bbox_inches=bbox)\n",
    "\n",
    "export_legend(legend)\n",
    "plt.show()"
   ]
  },
  {
   "cell_type": "code",
   "execution_count": null,
   "id": "46f6e1c5-ba90-47de-b04e-acb5768d191c",
   "metadata": {},
   "outputs": [],
   "source": []
  }
 ],
 "metadata": {
  "kernelspec": {
   "display_name": "Python 3",
   "language": "python",
   "name": "python3"
  },
  "language_info": {
   "codemirror_mode": {
    "name": "ipython",
    "version": 3
   },
   "file_extension": ".py",
   "mimetype": "text/x-python",
   "name": "python",
   "nbconvert_exporter": "python",
   "pygments_lexer": "ipython3",
   "version": "3.7.10"
  }
 },
 "nbformat": 4,
 "nbformat_minor": 5
}
