{
 "cells": [
  {
   "cell_type": "code",
   "execution_count": null,
   "id": "continued-submission",
   "metadata": {},
   "outputs": [],
   "source": [
    "import numpy as np\n",
    "import matplotlib.pyplot as plt\n",
    "import utils\n",
    "import pickle\n",
    "\n",
    "font = {\"weight\": \"bold\", \"size\": 40}\n",
    "\n",
    "plt.rcParams[\"pdf.fonttype\"] = 42\n",
    "plt.rcParams[\"ps.fonttype\"] = 42\n",
    "plt.rcParams[\"figure.figsize\"] = [9, 5.5]\n",
    "plt.rcParams[\"figure.dpi\"] = 300\n",
    "plt.rc(\"font\", **font)\n",
    "plt.rc(\"xtick\", labelsize=25)\n",
    "plt.rc(\"ytick\", labelsize=25)"
   ]
  },
  {
   "cell_type": "code",
   "execution_count": null,
   "id": "e3cbeb3e-fd4e-447a-91f4-59134aa7ffad",
   "metadata": {},
   "outputs": [],
   "source": [
    "# For E-BASS experiment\n",
    "# N_TASKS = 400\n",
    "# N_ARMS = 11\n",
    "# OPT_SIZE = 2 # >1\n",
    "# HORIZON = 100\n",
    "\n",
    "N_TASKS = 500\n",
    "N_ARMS = 30\n",
    "OPT_SIZE = 10  # >1\n",
    "HORIZON = 3000  # 450 for small \\tau experiment\n",
    "N_EXPS = 5  # No. of repeat experiments\n",
    "\n",
    "GAP_THRESHOLD = np.sqrt(N_ARMS * np.log(N_TASKS) / HORIZON)\n",
    "gap = min(1, GAP_THRESHOLD)  # or None\n",
    "kwargs = {\n",
    "    \"gap_constrain\": gap,\n",
    "    \"is_adversarial\": False,\n",
    "    \"skip_list\": [\"G_BASS_FC\", \"EE\", \"E_BASS\"],  # \"E_BASS\"\n",
    "    \"timeout\": 45,  # maximum duration for each experiment. Unit = minute. -1 = unlimited\n",
    "    \"quiet\": True,\n",
    "    \"linewidth\": 7,  # plotting parameter\n",
    "    \"plot_legend\": False,\n",
    "    \"OG_scale\": 1,\n",
    "    \"is_non_oblivious\": False,\n",
    "}\n",
    "\n",
    "if kwargs[\"is_adversarial\"]:\n",
    "    setting = \"Adversarial\"\n",
    "else:\n",
    "    setting = \"Stochastic\"\n",
    "print(f\"GAP_THRESHOLD = {GAP_THRESHOLD}, actual gap = {gap}\")\n",
    "utils.verify_params(N_TASKS, N_ARMS, HORIZON, OPT_SIZE, **kwargs)"
   ]
  },
  {
   "cell_type": "markdown",
   "id": "biological-upper",
   "metadata": {},
   "source": [
    "## Regret vs Number of tasks"
   ]
  },
  {
   "cell_type": "code",
   "execution_count": null,
   "id": "0613efa5-ebe2-4666-983a-9e41c187eb3e",
   "metadata": {
    "tags": []
   },
   "outputs": [],
   "source": [
    "# task_list = np.arange(100, 501, 100)\n",
    "task_list = np.arange(500, 2501, 500)\n",
    "(X, regret_dict, title, xlabel, ylabel) = utils.task_exp(N_EXPS, N_ARMS, OPT_SIZE, HORIZON, task_list, **kwargs)\n",
    "pickle.dump(regret_dict, open(\"results/tasks.p\", \"wb\"))\n",
    "pass"
   ]
  },
  {
   "cell_type": "code",
   "execution_count": null,
   "id": "b278d290",
   "metadata": {
    "tags": []
   },
   "outputs": [],
   "source": [
    "# Plot from loaded cache file\n",
    "# X = np.arange(100, 501, 100)\n",
    "X = np.arange(500, 2501, 500)\n",
    "gap = kwargs[\"gap_constrain\"]\n",
    "regret_dict = pickle.load(open(\"results/tasks.p\", \"rb\"))\n",
    "utils.plot(X, regret_dict, \"\", \"# of tasks (N)\", \"Regret / task\", **kwargs)\n",
    "pass"
   ]
  },
  {
   "cell_type": "markdown",
   "id": "documentary-planner",
   "metadata": {
    "tags": []
   },
   "source": [
    "## Regret vs Horizon"
   ]
  },
  {
   "cell_type": "code",
   "execution_count": null,
   "id": "artificial-commission",
   "metadata": {
    "tags": []
   },
   "outputs": [],
   "source": [
    "# horizon_list = np.arange(50, 206, 50)\n",
    "horizon_list = np.arange(3000, 5006, 500)\n",
    "(X_h, regret_dict_h, title, xlabel, ylabel) = utils.horizon_exp(\n",
    "    N_EXPS, N_TASKS, N_ARMS, OPT_SIZE, horizon_list=horizon_list, **kwargs\n",
    ")\n",
    "pickle.dump(regret_dict_h, open(\"results/horizon.p\", \"wb\"))\n",
    "pass"
   ]
  },
  {
   "cell_type": "code",
   "execution_count": null,
   "id": "9e3400fc",
   "metadata": {
    "tags": []
   },
   "outputs": [],
   "source": [
    "# Plot from loaded cache file\n",
    "# X_h = np.arange(50, 256, 50)\n",
    "X_h = np.arange(3000, 5006, 500)\n",
    "regret_dict_h = pickle.load(open(\"results/horizon.p\", \"rb\"))\n",
    "utils.plot(X_h, regret_dict_h, \"\", \"Task length (tau)\", \"Regret / Step\", **kwargs)\n",
    "# plt.ticklabel_format(axis=\"x\", style=\"sci\", scilimits=(0,0))"
   ]
  },
  {
   "cell_type": "markdown",
   "id": "romantic-azerbaijan",
   "metadata": {
    "tags": []
   },
   "source": [
    "## Regret vs # of arm"
   ]
  },
  {
   "cell_type": "code",
   "execution_count": null,
   "id": "hindu-slave",
   "metadata": {
    "tags": []
   },
   "outputs": [],
   "source": [
    "# n_arms_list = np.arange(10,19,2)\n",
    "n_arms_list = np.arange(25, 46, 5)\n",
    "(X_b, regret_dict_b, title, xlabel, ylabel) = utils.arms_exp(N_EXPS, N_TASKS, OPT_SIZE, HORIZON, n_arms_list, **kwargs)\n",
    "pickle.dump(regret_dict_b, open(\"results/arms.p\", \"wb\"))\n",
    "pass"
   ]
  },
  {
   "cell_type": "code",
   "execution_count": null,
   "id": "1c7bf03f-7c5f-4264-9110-f84cecd918da",
   "metadata": {
    "tags": []
   },
   "outputs": [],
   "source": [
    "# Plot from loaded cache file\n",
    "# X_b = np.arange(10,19,2)\n",
    "X_b = np.arange(25, 46, 5)\n",
    "regret_dict_b = pickle.load(open(\"results/arms.p\", \"rb\"))\n",
    "utils.plot(X_b, regret_dict_b, \"\", \"# of Arms (K)\", \"Regret\", **kwargs)"
   ]
  },
  {
   "cell_type": "markdown",
   "id": "written-female",
   "metadata": {
    "tags": []
   },
   "source": [
    "## Regret vs subset size"
   ]
  },
  {
   "cell_type": "code",
   "execution_count": null,
   "id": "black-reproduction",
   "metadata": {
    "tags": []
   },
   "outputs": [],
   "source": [
    "opt_size_list = np.arange(2, 11, 2)\n",
    "(X_e, regret_dict_e, title, xlabel, ylabel) = utils.subset_exp(\n",
    "    N_EXPS, N_TASKS, N_ARMS, HORIZON, opt_size_list=opt_size_list, **kwargs\n",
    ")\n",
    "pickle.dump(regret_dict_e, open(\"results/subset.p\", \"wb\"))\n",
    "pass"
   ]
  },
  {
   "cell_type": "code",
   "execution_count": null,
   "id": "existing-recording",
   "metadata": {
    "tags": []
   },
   "outputs": [],
   "source": [
    "# Plot from loaded cache file\n",
    "X_e = np.arange(2, 11, 2)\n",
    "regret_dict_e = pickle.load(open(\"results/subset.p\", \"rb\"))\n",
    "utils.plot(X_e, regret_dict_e, \"\", \"Subset size (M)\", \"Regret\", **kwargs)"
   ]
  },
  {
   "cell_type": "markdown",
   "id": "c6714c49-c9fd-4789-b781-86299fa1dc70",
   "metadata": {
    "jp-MarkdownHeadingCollapsed": true,
    "tags": []
   },
   "source": [
    "# Plotting legend code"
   ]
  },
  {
   "cell_type": "code",
   "execution_count": null,
   "id": "6370610d-e7c9-477a-839b-ddf68a7200bd",
   "metadata": {},
   "outputs": [],
   "source": [
    "font = {\"weight\": \"bold\", \"size\": 6}\n",
    "\n",
    "plt.rc(\"font\", **font)\n",
    "plt.rcParams[\"pdf.fonttype\"] = 42\n",
    "plt.rcParams[\"ps.fonttype\"] = 42\n",
    "\n",
    "plt.rcParams[\"figure.figsize\"] = [9, 5.5]  # NIPS format: [9, 5.5]"
   ]
  },
  {
   "cell_type": "code",
   "execution_count": null,
   "id": "4cfcbd5b-a9d6-45b3-b523-5b33c529ca54",
   "metadata": {
    "tags": []
   },
   "outputs": [],
   "source": [
    "# # labels = [\"MOSS\", \"G-BASS\", \"OG°\", \"OS-BASS\", \"Opt-MOSS\"]\n",
    "labels = [\"MOSS\", \"G-BASS\", \"E-BASS\", \"OG°\", \"OS_BASS\", \"Opt-MOSS\"]\n",
    "# colors = [\"#F28522\", \"#FF1F5B\", \"#FFC61E\", \"#AEEA00\", \"#A0B1BA\"]\n",
    "colors = [\"#F28522\", \"#FF1F5B\", \"#00CD6C\", \"#FFC61E\", \"#AEEA00\", \"#A0B1BA\"]\n",
    "# linestyles = [\"-\", (0, (5, 1)), \"-.\", \"dotted\", \"--\" ]\n",
    "linestyles = [\"-\", (0, (5, 1)), (0, (3, 1, 1, 1, 1, 1)), \"-.\", \"dotted\", \"--\"]\n",
    "f = lambda c, l: plt.plot([], [], color=c, ls=l, linewidth=2)[0]\n",
    "handles = [f(colors[i], linestyles[i]) for i in range(len(labels))]\n",
    "legend = plt.legend(\n",
    "    handles, labels, loc=\"lower left\", framealpha=1, frameon=False, mode=\"expand\", ncol=6, handlelength=6\n",
    ")\n",
    "\n",
    "\n",
    "def export_legend(legend, filename=\"legend6.png\"):\n",
    "    fig = legend.figure\n",
    "    fig.canvas.draw()\n",
    "    bbox = legend.get_window_extent().transformed(fig.dpi_scale_trans.inverted())\n",
    "    fig.savefig(filename, dpi=\"figure\", bbox_inches=bbox)\n",
    "\n",
    "\n",
    "export_legend(legend)\n",
    "plt.show()"
   ]
  },
  {
   "cell_type": "code",
   "execution_count": null,
   "id": "46f6e1c5-ba90-47de-b04e-acb5768d191c",
   "metadata": {},
   "outputs": [],
   "source": []
  }
 ],
 "metadata": {
  "kernelspec": {
   "display_name": "Python 3 (ipykernel)",
   "language": "python",
   "name": "python3"
  },
  "language_info": {
   "codemirror_mode": {
    "name": "ipython",
    "version": 3
   },
   "file_extension": ".py",
   "mimetype": "text/x-python",
   "name": "python",
   "nbconvert_exporter": "python",
   "pygments_lexer": "ipython3",
   "version": "3.7.11"
  }
 },
 "nbformat": 4,
 "nbformat_minor": 5
}
